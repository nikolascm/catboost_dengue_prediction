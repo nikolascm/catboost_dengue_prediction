{
  "cells": [
    {
      "cell_type": "markdown",
      "metadata": {
        "id": "H7dl5nzcihqT"
      },
      "source": [
        "# CatBoost"
      ]
    },
    {
      "cell_type": "code",
      "source": [
        "!pip install catboost"
      ],
      "metadata": {
        "id": "N_YikItHi3Hq"
      },
      "execution_count": null,
      "outputs": []
    },
    {
      "cell_type": "code",
      "execution_count": null,
      "metadata": {
        "id": "1OYqKUFqihqX"
      },
      "outputs": [],
      "source": [
        "import pandas as pd"
      ]
    },
    {
      "cell_type": "code",
      "execution_count": null,
      "metadata": {
        "id": "7KWQSAyCihqa"
      },
      "outputs": [],
      "source": [
        "data = pd.read_csv('entrada_modelos.CSV')\n",
        "data = data.interpolate()\n",
        "data.isnull().sum()"
      ]
    },
    {
      "cell_type": "code",
      "execution_count": null,
      "metadata": {
        "id": "HR-yxrxiihqd"
      },
      "outputs": [],
      "source": [
        "seq_df = data"
      ]
    },
    {
      "cell_type": "code",
      "execution_count": null,
      "metadata": {
        "id": "WQSvBAO2ihqf"
      },
      "outputs": [],
      "source": [
        "## Adaptado de: https://github.com/marcopeix/datasciencewithmarco/blob/master/sklearn_time_series.ipynb\n",
        "def window_input(window_length: int, data: pd.DataFrame) -> pd.DataFrame:\n",
        "    df = data.copy()\n",
        "    i = 1\n",
        "    while i < window_length:\n",
        "        df[f'lag_{i}'] = df['casos_sm'].shift(-i)\n",
        "        i = i + 1\n",
        "    if i == window_length:\n",
        "        df['y'] = df['casos_sm'].shift(-i)\n",
        "    # Preenche com zeros onde há valores NaN\n",
        "    #df = df.dropna(axis=0)\n",
        "    df = df.fillna(0)\n",
        "    return df"
      ]
    },
    {
      "cell_type": "code",
      "execution_count": null,
      "metadata": {
        "id": "GguU3KI-ihqh"
      },
      "outputs": [],
      "source": [
        "seq_df = window_input(4, seq_df)\n",
        "seq_df"
      ]
    },
    {
      "cell_type": "code",
      "execution_count": null,
      "metadata": {
        "id": "Buqo8XI0ihqk"
      },
      "outputs": [],
      "source": [
        "# prompt: Usando o DataFrame seq_df: faça a coluna 'data' ser índice, remova todas as outras exceto colunas 'casos_sm' e lags\n",
        "\n",
        "seq_df = seq_df.set_index('data')[['casos_sm', 'lag_1', 'lag_2', 'lag_3']]\n",
        "seq_df"
      ]
    },
    {
      "cell_type": "code",
      "execution_count": null,
      "metadata": {
        "id": "oAO5U15Rihqm"
      },
      "outputs": [],
      "source": [
        "# prompt: Usando o DataFrame seq_df: converta o print dessa tabela para código em latex, deixando apenas as 6 últimas linhas\n",
        "\n",
        "print(seq_df.tail(6).to_latex())\n"
      ]
    },
    {
      "cell_type": "markdown",
      "metadata": {
        "id": "meqjuotWihqp"
      },
      "source": [
        "#Função em loop para múltiplos treinamentos com CatBoost"
      ]
    },
    {
      "cell_type": "code",
      "execution_count": null,
      "metadata": {
        "id": "5plCXFTAihqs"
      },
      "outputs": [],
      "source": [
        "def format_data(seq_df):\n",
        "  # Ajusta coluna de datas e reseta índice\n",
        "  seq_df['data'] = pd.to_datetime(seq_df['data'], format='%Y-%m-%d')\n",
        "  seq_df = seq_df.drop(seq_df.columns[0], axis=1)\n",
        "  seq_df.set_index('data', inplace=True)\n",
        "  return seq_df"
      ]
    },
    {
      "cell_type": "code",
      "execution_count": null,
      "metadata": {
        "id": "qUmfepcCihqu"
      },
      "outputs": [],
      "source": [
        "import numpy as np\n",
        "import matplotlib.pyplot as plt\n",
        "\n",
        "def my_plot2(df):\n",
        "\n",
        "  # Plotting\n",
        "  plt.figure(figsize=(10, 5))\n",
        "\n",
        "  # Plot actual values\n",
        "  plt.plot(df.index, df['casos_sm'], label='Actual', color='blue', marker='o')\n",
        "\n",
        "  # Plot predicted values\n",
        "  plt.plot(df.index, df['predicted_values'], label='Predicted', color='red', marker='x')\n",
        "\n",
        "  # Adding labels and title\n",
        "  plt.xlabel('Sample Index')\n",
        "  plt.ylabel('Value')\n",
        "  plt.title('Predicted vs Actual Values')\n",
        "  plt.xlim(df.index.min(), df.index.max())\n",
        "\n",
        "  # Defining and displaying all time axis ticks\n",
        "  ticks = list(df.index)\n",
        "  plt.xticks(ticks)\n",
        "  plt.xticks(ticks, fontsize=8, rotation=30)\n",
        "  plt.legend()\n",
        "\n",
        "  # Display the plot\n",
        "  plt.show()\n",
        "\n",
        "def calculate_figsize(num_entries, base_length=10, max_length=20):\n",
        "    if num_entries <= 10:\n",
        "        return (base_length, 4)  # Altura fixa, comprimento base_length\n",
        "    else:\n",
        "        # Calcule o comprimento proporcional, mas não ultrapasse max_length\n",
        "        length = min(max_length, base_length * (num_entries / 10))\n",
        "        return (length, 4)\n",
        "\n",
        "def my_plot(predicted_values, actual_values):\n",
        "\n",
        "  num_entries = len(predicted_values)\n",
        "  figsize_ = calculate_figsize(num_entries)\n",
        "\n",
        "  # Plotting\n",
        "  plt.figure(figsize=figsize_)\n",
        "\n",
        "  # Lista de valores\n",
        "  #sarimax = [9.87779829e-01, 1.00536145e+00, -5.53064119e-02, 1.08174458e+00, 6.45207754e-03, -1.96113408e-02, 1.99098661e+00, 2.97346153e+00, 2.99599465e+00, -8.95766081e-02, 1.56663454e+01, 3.26781066e+01]\n",
        "\n",
        "  sarimax = [232.5902948,261.07891422,252.37894709,285.02830806,312.36586635,219.82140723,246.05941762,286.54788506,258.00177699,172.03113754,154.68495018,158.8637181]\n",
        "\n",
        "  # Converter a lista em um DataFrame\n",
        "  #s = pd.DataFrame(sarimax, columns=['values'])\n",
        "\n",
        "  # Plot actual values\n",
        "  plt.plot(actual_values.index, actual_values, label='Real', color='blue', marker='o')\n",
        "\n",
        "  # Plot predicted values\n",
        "  plt.plot(actual_values.index, predicted_values, label='CatBoost', color='red', marker='x')\n",
        "\n",
        "  #plt.plot(actual_values.index, s['values'], label='SARIMAX', color='black', marker='p')\n",
        "\n",
        "  # Adding labels and title\n",
        "  plt.xlabel('Datas')\n",
        "  plt.ylabel('Casos')\n",
        "  #plt.title('Valores reais vs valores previstos')\n",
        "  plt.xlim(actual_values.index.min(), actual_values.index.max())\n",
        "\n",
        "  # Defining and displaying all time axis ticks\n",
        "  ticks = list(actual_values.index)\n",
        "  plt.xticks(ticks)\n",
        "  plt.xticks(ticks, fontsize=8, rotation=30)\n",
        "  plt.legend()\n",
        "\n",
        "  # Display the plot\n",
        "  plt.show()\n"
      ]
    },
    {
      "cell_type": "markdown",
      "metadata": {
        "id": "vGJS67iBihqx"
      },
      "source": [
        "Mostrar que a predição converge em 2023 com os valores reais atualizados passo a passo (sem atualização nos dados pelos valores preditos):\n",
        "```\n",
        "new_data = data.iloc[:-52]\n",
        "\n",
        "#Defasagem de 1 lag, durante as próximas 12 semanas\n",
        "#catboost_loop(input,length, num_semanas, dados)   \n",
        "catboost_loop(1, 12, new_data)\n",
        "\n",
        "```\n",
        "\n",
        "Para monstrar que não converge, descomentar linha:\n",
        "```\n",
        "# data_prov.iloc[train_size:train_size + input_length, data_prov.columns.get_loc('casos_sm')] = predictions\n",
        "\n",
        "```\n",
        "\n"
      ]
    },
    {
      "cell_type": "code",
      "execution_count": null,
      "metadata": {
        "id": "PMPeymDqihqy"
      },
      "outputs": [],
      "source": [
        "import numpy as np\n",
        "import pandas as pd\n",
        "from catboost import CatBoostRegressor\n",
        "from sklearn.metrics import mean_squared_error, mean_absolute_error, r2_score\n",
        "\n",
        "def catboost_loop(input_length, num_semanas, data):\n",
        "\n",
        "    data_prov = data.copy()\n",
        "    predicted_values = np.array([])\n",
        "    actual_values = pd.DataFrame()\n",
        "\n",
        "    # Calcular o ponto de início\n",
        "    start_index = len(data) - num_semanas\n",
        "\n",
        "    # Iterar sobre o DataFrame a partir do ponto de início até o final\n",
        "    for i in range(start_index, len(data), input_length):\n",
        "\n",
        "        print(\"Iteração: \", i)\n",
        "        # Criar defasagens\n",
        "        seq_df = window_input(input_length, data_prov)\n",
        "        seq_df = format_data(seq_df)\n",
        "\n",
        "        # Separação dos dados em treino e teste\n",
        "        X = seq_df.drop(columns=['casos_sm', 'y'], axis=1)\n",
        "        Y = seq_df[['casos_sm']]\n",
        "\n",
        "        train_size = i\n",
        "\n",
        "        y_train, y_test = Y.iloc[:train_size], Y.iloc[train_size:train_size + input_length]\n",
        "        X_train, X_test = X.iloc[:train_size], X.iloc[train_size:train_size + input_length]\n",
        "\n",
        "        model = CatBoostRegressor(random_state=42, loss_function='RMSE', verbose=False)\n",
        "        model.fit(X_train, y_train)\n",
        "\n",
        "        predictions = model.predict(X_test)\n",
        "        predicted_values = np.append(predicted_values, predictions)\n",
        "        actual_values = pd.concat([actual_values, y_test])\n",
        "\n",
        "        # Atualizar os valores de data_prov com as previsões\n",
        "        data_prov.iloc[train_size:train_size + input_length, data_prov.columns.get_loc('casos_sm')] = predictions\n",
        "\n",
        "    # Combine the actual values and predictions into a single DataFrame\n",
        "    df_predictions = pd.DataFrame(predicted_values, index=actual_values.index, columns=['predicted_values'])\n",
        "    df_combined = pd.concat([actual_values, df_predictions], axis=1)\n",
        "\n",
        "    # my_plot2(mean_values)\n",
        "    print(len(predicted_values))\n",
        "    my_plot(predicted_values, actual_values)\n",
        "\n",
        "    # Calcular RMSE\n",
        "    mse = mean_squared_error(actual_values, predicted_values)\n",
        "    rmse = np.sqrt(mse)\n",
        "    print(f'RMSE: {rmse}')\n",
        "\n",
        "    # Calcular MAE\n",
        "    mae = mean_absolute_error(actual_values, predicted_values)\n",
        "    print(f'MAE: {mae}')\n",
        "\n",
        "    # Calcular R2\n",
        "    r2 = r2_score(actual_values, predicted_values)\n",
        "    print(f'R2: {r2}')\n",
        "\n",
        "# catboost_loop(input_length, num_semanas, data)\n",
        "# catboost_loop(1, 12, data) = de 1 em 1, prevê 12 semanas\n",
        "data = data.drop(['p_inc100k_sm'], axis=1)\n",
        "\n",
        "catboost_loop(1, 52, data)\n"
      ]
    },
    {
      "cell_type": "code",
      "execution_count": null,
      "metadata": {
        "id": "YiQ5EWXiihq0"
      },
      "outputs": [],
      "source": [
        "## Criação das defasagens no dataset\n",
        "input_length = 12\n",
        "seq_df = window_input(input_length, data)"
      ]
    },
    {
      "cell_type": "code",
      "execution_count": null,
      "metadata": {
        "id": "3N3Mvs8Wihq1"
      },
      "outputs": [],
      "source": [
        "seq_df['data'] = pd.to_datetime(seq_df['data'], format='%Y-%m-%d')\n",
        "seq_df = seq_df.drop(seq_df.columns[0], axis=1)\n",
        "seq_df.set_index('data', inplace=True)\n",
        "#seq_df"
      ]
    },
    {
      "cell_type": "code",
      "execution_count": null,
      "metadata": {
        "id": "SygMZ11bihq2"
      },
      "outputs": [],
      "source": [
        "#seq_df = seq_df.drop('p_inc100k_sm', axis=1)"
      ]
    },
    {
      "cell_type": "code",
      "execution_count": null,
      "metadata": {
        "id": "C5-_nWQlihq2"
      },
      "outputs": [],
      "source": [
        "## Separação dos dados em treino e teste\n",
        "X = seq_df.drop(columns=['casos_sm', 'y'], axis=1)\n",
        "Y = seq_df[['casos_sm']]\n",
        "\n",
        "train_size = len(X) - input_length\n",
        "\n",
        "y_train, y_test = Y.iloc[:train_size], Y.iloc[train_size:]\n",
        "X_train, X_test = X.iloc[:train_size], X.iloc[train_size:]"
      ]
    },
    {
      "cell_type": "code",
      "execution_count": null,
      "metadata": {
        "id": "oWpeQSPkihq4"
      },
      "outputs": [],
      "source": [
        "from catboost import CatBoostRegressor\n",
        "\n",
        "model = CatBoostRegressor(random_state=42, loss_function='RMSE', verbose=False)\n",
        "model.fit(X_train, y_train)"
      ]
    },
    {
      "cell_type": "code",
      "execution_count": null,
      "metadata": {
        "id": "jBV99Le4ihq5"
      },
      "outputs": [],
      "source": [
        "predictions = model.predict(X_test)\n",
        "predictions"
      ]
    },
    {
      "cell_type": "markdown",
      "metadata": {
        "id": "RLySYq5bihq7"
      },
      "source": [
        "# Métricas de Erro"
      ]
    },
    {
      "cell_type": "code",
      "execution_count": null,
      "metadata": {
        "id": "5T-U0NqGihq7"
      },
      "outputs": [],
      "source": [
        "from sklearn.metrics import mean_squared_error, mean_absolute_error, r2_score\n",
        "\n",
        "# Calcular RMSE\n",
        "mse = mean_squared_error(y_test, predictions)\n",
        "rmse = np.sqrt(mse)\n",
        "print(f'RMSE: {rmse}')\n",
        "\n",
        "# Calcular MAE\n",
        "mae = mean_absolute_error(y_test, predictions)\n",
        "print(f'MAE: {mae}')\n",
        "\n",
        "# Calcular R2\n",
        "r2 = r2_score(y_test, predictions)\n",
        "print(f'R2: {r2}')"
      ]
    },
    {
      "cell_type": "code",
      "execution_count": null,
      "metadata": {
        "id": "PINmoweMihq9"
      },
      "outputs": [],
      "source": [
        "my_plot(predictions,y_test[-12:])"
      ]
    },
    {
      "cell_type": "code",
      "execution_count": null,
      "metadata": {
        "id": "l3Zynl0pihq-"
      },
      "outputs": [],
      "source": [
        "# Plotar previsões vs. valores reais\n",
        "plt.figure(figsize=(14, 7))\n",
        "\n",
        "# Dados de treino\n",
        "# plt.plot(X_train[-12:].index, y_train[-12:], label='Treino', color='blue')\n",
        "\n",
        "# Dados de teste\n",
        "plt.plot(X_test[-12:].index, y_test[-12:], label='Teste', color='green')\n",
        "\n",
        "# Previsões\n",
        "plt.plot(X_test[-12:].index, predictions, label='Previsão', color='red')\n",
        "\n",
        "plt.legend()\n",
        "plt.title('Previsões com CatBoost')\n",
        "plt.xlabel('Data')\n",
        "plt.ylabel('Casos')\n",
        "plt.show()\n"
      ]
    },
    {
      "cell_type": "code",
      "execution_count": null,
      "metadata": {
        "id": "pxRoohJGihq_"
      },
      "outputs": [],
      "source": [
        "## DataFrame para auxiliar nos plots\n",
        "dates = pd.DataFrame(index=y_test.index)\n",
        "feature_df = pd.DataFrame({'Feature': X_train.columns, \"Importance\": model.get_feature_importance()})\n",
        "feature_df.sort_values('Importance', ascending=False)"
      ]
    },
    {
      "cell_type": "code",
      "execution_count": null,
      "metadata": {
        "id": "aKuz_v5vihrB"
      },
      "outputs": [],
      "source": [
        "## DataFrame para auxiliar nos plots\n",
        "dates = pd.DataFrame(index=y_test.index)\n",
        "\n",
        "feature_df = pd.DataFrame({'Feature': X_train.columns, \"Imp\": model.get_feature_importance()})\n",
        "feature_df.sort_values('Imp', ascending=False)\n",
        "\n",
        "fig, ax = plt.subplots(figsize=(10, 4))\n",
        "\n",
        "ax.plot(dates[-input_length:].index, y_test.values, marker='.', color='blue', label='Observados')\n",
        "ax.plot(dates[-input_length:].index, predictions, marker='P', color='black', label='CatBoost')\n",
        "\n",
        "ax.set_xlabel('Datas')\n",
        "ax.set_ylabel('Casos de dengue')\n",
        "\n",
        "plt.xticks(dates.index[-input_length:], dates.index[-input_length:]) # Changed line\n",
        "plt.legend(loc=1)\n",
        "\n",
        "fig.autofmt_xdate()\n",
        "plt.tight_layout()"
      ]
    },
    {
      "cell_type": "code",
      "source": [
        "!pip install shap"
      ],
      "metadata": {
        "id": "ixozeU23q2g5"
      },
      "execution_count": null,
      "outputs": []
    },
    {
      "cell_type": "code",
      "execution_count": null,
      "metadata": {
        "id": "qtrnSy7SihrC"
      },
      "outputs": [],
      "source": [
        "import shap\n",
        "\n",
        "# Calcular valores SHAP\n",
        "explainer = shap.TreeExplainer(model)\n",
        "shap_values = explainer.shap_values(X)\n",
        "\n",
        "# Plotar a importância das features\n",
        "shap.summary_plot(shap_values, X, plot_type=\"bar\")"
      ]
    },
    {
      "cell_type": "code",
      "execution_count": null,
      "metadata": {
        "id": "_Yt1G3WBihrD"
      },
      "outputs": [],
      "source": [
        "# Plotar a importância das features detalhadamente\n",
        "shap.summary_plot(shap_values, X)"
      ]
    },
    {
      "cell_type": "code",
      "execution_count": null,
      "metadata": {
        "id": "b98J6046ihrE"
      },
      "outputs": [],
      "source": [
        "# Plotar a dependência de uma feature específica\n",
        "shap.dependence_plot(\"lag_1\", shap_values, X)"
      ]
    }
  ],
  "metadata": {
    "kernelspec": {
      "display_name": "venv",
      "language": "python",
      "name": "python3"
    },
    "language_info": {
      "codemirror_mode": {
        "name": "ipython",
        "version": 3
      },
      "file_extension": ".py",
      "mimetype": "text/x-python",
      "name": "python",
      "nbconvert_exporter": "python",
      "pygments_lexer": "ipython3",
      "version": "3.12.3"
    },
    "colab": {
      "provenance": []
    }
  },
  "nbformat": 4,
  "nbformat_minor": 0
}