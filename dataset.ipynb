{
  "cells": [
    {
      "cell_type": "markdown",
      "metadata": {
        "id": "JOBPUTMpwgCX"
      },
      "source": [
        "# Construção do dataset"
      ]
    },
    {
      "cell_type": "markdown",
      "metadata": {
        "id": "tqA86YycwgCd"
      },
      "source": [
        "## Padronização dos arquivos de dados climáticos do INMET\n",
        "\n",
        "Colunas com diferentes formatações de dados de acordo com o ano, nomes de colunas diferentes de um arquivo para o outro, etc"
      ]
    },
    {
      "cell_type": "code",
      "execution_count": null,
      "metadata": {
        "id": "i2cIzN-iwgCf"
      },
      "outputs": [],
      "source": [
        "import numpy as np\n",
        "import pandas as pd"
      ]
    },
    {
      "cell_type": "code",
      "execution_count": null,
      "metadata": {
        "id": "nzOAYDYYwgCi"
      },
      "outputs": [],
      "source": [
        "df = pd.read_csv('dados_inmet.csv', sep=';', encoding='cp1252')\n",
        "df.dtypes"
      ]
    },
    {
      "cell_type": "code",
      "execution_count": null,
      "metadata": {
        "id": "yxqCgaEhwgCl"
      },
      "outputs": [],
      "source": [
        "df.head()"
      ]
    },
    {
      "cell_type": "code",
      "execution_count": null,
      "metadata": {
        "id": "a3FjHgx8wgCm"
      },
      "outputs": [],
      "source": [
        "df = df.rename(columns={'Data': 'data',\n",
        "                        'Hora (UTC)': 'hora',\n",
        "                        'Temp. Max. (C)': 'tempmax',\n",
        "                        'Temp. Min. (C)': 'tempmin',\n",
        "                        'Umi. Max. (%)': 'umidmax',\n",
        "                        'Umi. Min. (%)': 'umidmin',\n",
        "                        'Vel. Vento (m/s)': 'vento',\n",
        "                        'Chuva (mm)': 'chuva'})\n",
        "\n",
        "# Remoção de colunas que não serão utilizadas\n",
        "df = df.drop(columns=['Temp. Ins. (C)', 'Umi. Ins. (%)',\n",
        "                      'Pto Orvalho Ins. (C)', 'Pto Orvalho Max. (C)',\n",
        "                      'Pto Orvalho Min. (C)', 'Pressao Ins. (hPa)', 'Pressao Max. (hPa)',\n",
        "                      'Pressao Min. (hPa)', 'Dir. Vento (m/s)', 'Raj. Vento (m/s)',\n",
        "                      'Radiacao (KJ/mÂ²)'])\n",
        "df.columns"
      ]
    },
    {
      "cell_type": "code",
      "execution_count": null,
      "metadata": {
        "id": "4hzuBBYUwgCn"
      },
      "outputs": [],
      "source": [
        "# Convertendo a coluna 'Data' para o tipo datetime\n",
        "df['data'] = pd.to_datetime(df['data'], format='%d/%m/%Y')\n",
        "\n",
        "# Convertendo tipo 'object' para 'float'\n",
        "for i in df.columns:\n",
        "    if(df[i].dtype == object):\n",
        "        df[i] = df[i].str.replace(',','.').astype(float)\n",
        "\n",
        "df.set_index('data', inplace=True)"
      ]
    },
    {
      "cell_type": "markdown",
      "metadata": {
        "id": "Ukq7MAXDwgCn"
      },
      "source": [
        "### Conversão de dados diários para semanais"
      ]
    },
    {
      "cell_type": "code",
      "execution_count": null,
      "metadata": {
        "id": "S4SoIuy-wgCo"
      },
      "outputs": [],
      "source": [
        "df_semanal = df.resample('W').agg({'tempmin': 'min',\n",
        "                                    'umidmin': 'min',\n",
        "                                    'tempmax': 'max',\n",
        "                                    'umidmax': 'max',\n",
        "                                    'vento': 'max',\n",
        "                                    'chuva': 'sum'})\n",
        "df_semanal.reset_index(inplace=True)\n",
        "df_semanal"
      ]
    },
    {
      "cell_type": "markdown",
      "metadata": {
        "id": "WHttzBQwwgCo"
      },
      "source": [
        "## Dados do InfoDengue\n",
        "Concatenação entre dados sobre número de casos e incidência com dados climáticos"
      ]
    },
    {
      "cell_type": "code",
      "execution_count": null,
      "metadata": {
        "id": "319_Av44wgCp"
      },
      "outputs": [],
      "source": [
        "infodengue = pd.read_csv('downloadedInfoDengueData.CSV')\n",
        "infodengue = infodengue.rename(columns={'data_iniSE_sm':'data'})\n",
        "infodengue"
      ]
    },
    {
      "cell_type": "code",
      "execution_count": null,
      "metadata": {
        "id": "QdPzwSruwgCq"
      },
      "outputs": [],
      "source": [
        "infodengue['data'] = pd.to_datetime(infodengue['data'], format='%Y-%m-%d')\n",
        "df_final = pd.merge(infodengue, df_semanal, on='data', how='inner')\n",
        "df_final"
      ]
    },
    {
      "cell_type": "markdown",
      "metadata": {
        "id": "FTgTmyDOwgCs"
      },
      "source": [
        "## Gráficos"
      ]
    },
    {
      "cell_type": "code",
      "execution_count": null,
      "metadata": {
        "id": "TzPeaEdbwgCt"
      },
      "outputs": [],
      "source": [
        "import matplotlib.pyplot as plt\n",
        "\n",
        "# Create a figure and axis\n",
        "fig, ax = plt.subplots(figsize=(15, 6))\n",
        "\n",
        "inicio_intervalo = 2020\n",
        "fim_intervalo = 2022\n",
        "\n",
        "#df_ano = df_final[df_final['data'].dt.year < ano]\n",
        "df_ano = df_final[(df_final['data'].dt.year >= inicio_intervalo) & (df_final['data'].dt.year <= fim_intervalo)]\n",
        "\n",
        "\n",
        "# Plot the data from the first DataFrame\n",
        "#ax.plot(df_ano['data'], df_ano['tempmin'], label='tempmin')\n",
        "ax.plot(df_ano['data'], df_ano['tempmax'], label='tempmax')\n",
        "ax.plot(df_ano['data'], df_ano['chuva']*0.2, label='chuva')\n",
        "ax.plot(df_ano['data'], df_ano['casos_sm']*0.2, label='chuva')\n",
        "\n",
        "# Add labels and legend\n",
        "ax.set_xlabel('Data')\n",
        "ax.set_ylabel('Temp')\n",
        "\n",
        "# Show the plot\n",
        "plt.legend()\n",
        "plt.show()"
      ]
    },
    {
      "cell_type": "markdown",
      "metadata": {
        "id": "-iFIJZXiFq0w"
      },
      "source": [
        "#Exportar para drive"
      ]
    },
    {
      "cell_type": "code",
      "execution_count": null,
      "metadata": {
        "id": "h7r3LXA4FuFO"
      },
      "outputs": [],
      "source": [
        "# Mover o arquivo CSV para o Google Drive\n",
        "df_final.to_csv('entrada_modelos.CSV', index=False)"
      ]
    }
  ],
  "metadata": {
    "colab": {
      "provenance": []
    },
    "kernelspec": {
      "display_name": "Python 3",
      "name": "python3"
    },
    "language_info": {
      "codemirror_mode": {
        "name": "ipython",
        "version": 3
      },
      "file_extension": ".py",
      "mimetype": "text/x-python",
      "name": "python",
      "nbconvert_exporter": "python",
      "pygments_lexer": "ipython3",
      "version": "3.12.3"
    }
  },
  "nbformat": 4,
  "nbformat_minor": 0
}