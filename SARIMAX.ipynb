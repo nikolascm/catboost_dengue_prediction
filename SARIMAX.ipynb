{
  "cells": [
    {
      "cell_type": "markdown",
      "metadata": {
        "id": "M1wOVlG6ippe"
      },
      "source": [
        "# SARIMAX"
      ]
    },
    {
      "cell_type": "code",
      "execution_count": null,
      "metadata": {
        "id": "3e083474"
      },
      "outputs": [],
      "source": [
        "import pandas as pd\n",
        "import numpy as np\n",
        "from matplotlib import pyplot as plt\n",
        "\n",
        "from pmdarima import auto_arima\n",
        "from statsmodels.tsa.arima.model import ARIMA"
      ]
    },
    {
      "cell_type": "code",
      "execution_count": null,
      "metadata": {
        "id": "63690b9b"
      },
      "outputs": [],
      "source": [
        "# Processamento do dataset -> pandas DataFrame\n",
        "df = pd.read_csv('entrada_sarimax.csv')\n",
        "df = df.rename(columns={'data_iniSE_sm': 'Data', 'casos_sm': 'casos'})\n",
        "df['data'] = pd.to_datetime(df['data'],format='%Y-%m-%d')\n",
        "df = df.set_index(['data'])\n",
        "df.head()"
      ]
    },
    {
      "cell_type": "code",
      "execution_count": null,
      "metadata": {
        "id": "1ff6cc31"
      },
      "outputs": [],
      "source": [
        "# Estatística descritiva\n",
        "df.describe()"
      ]
    },
    {
      "cell_type": "code",
      "execution_count": null,
      "metadata": {
        "id": "XtnmaDMAugbB"
      },
      "outputs": [],
      "source": [
        "df['casos'].plot(figsize=(12,3))"
      ]
    },
    {
      "cell_type": "code",
      "execution_count": null,
      "metadata": {
        "id": "0TQHX5BjTx_g"
      },
      "outputs": [],
      "source": [
        "## Colunas selecionadas como exógenas\n",
        "#df = df[['p_inc100k_sm', 'casos_poa', 'p_inc100k_poa','casos_rj', 'p_inc100k_rj', 'tempmin', 'umidmin', 'tempmax', 'umidmax','vento', 'chuva']]"
      ]
    },
    {
      "cell_type": "code",
      "execution_count": null,
      "metadata": {
        "id": "q2gOMjem2sRR"
      },
      "outputs": [],
      "source": [
        "## Adaptado de: https://github.com/marcopeix/datasciencewithmarco/blob/master/sklearn_time_series.ipynb\n",
        "def window_input(window_length: int, data: pd.DataFrame) -> pd.DataFrame:\n",
        "    df = data.copy()\n",
        "    i = 1\n",
        "    while i < window_length:\n",
        "        df[f'x_{i}'] = df['casos'].shift(-i)\n",
        "        i = i + 1\n",
        "    if i == window_length:\n",
        "        df['y'] = df['casos'].shift(-i)\n",
        "    # Preenche com zeros onde há valores NaN\n",
        "    #df = df.dropna(axis=0)\n",
        "    df = df.fillna(0)\n",
        "    return df"
      ]
    },
    {
      "cell_type": "code",
      "execution_count": null,
      "metadata": {
        "id": "pvW-jdnq22cw"
      },
      "outputs": [],
      "source": [
        "input_length = 12"
      ]
    },
    {
      "cell_type": "code",
      "execution_count": null,
      "metadata": {
        "id": "16XjRs8HcMKd"
      },
      "outputs": [],
      "source": [
        "## Cria input_length defasagens no dataset\n",
        "df = window_input(input_length, df)"
      ]
    },
    {
      "cell_type": "code",
      "execution_count": null,
      "metadata": {
        "id": "tkdnVl7-meZi"
      },
      "outputs": [],
      "source": [
        "## Separação em treinamento e teste\n",
        "X = df.drop(columns=['casos','y','SE'], axis=1)\n",
        "Y = df['casos']\n",
        "\n",
        "Y_train, Y_test = Y.iloc[:-input_length], Y.iloc[-input_length:]\n",
        "X_train, X_test = X.iloc[:-input_length], X.iloc[-input_length:]"
      ]
    },
    {
      "cell_type": "code",
      "execution_count": null,
      "metadata": {
        "id": "PaniE_oj3CfH"
      },
      "outputs": [],
      "source": [
        "## Separação em treinamento e teste\n",
        "X = df.drop(columns=['casos','SE'], axis=1)\n",
        "Y = df['casos']\n",
        "\n",
        "Y_train, Y_test = Y.iloc[:-input_length], Y.iloc[-input_length:]\n",
        "X_train, X_test = X.iloc[:-input_length], X.iloc[-input_length:]"
      ]
    },
    {
      "cell_type": "code",
      "execution_count": null,
      "metadata": {
        "id": "NMdXecAk_-5Z"
      },
      "outputs": [],
      "source": [
        "X_train.columns"
      ]
    },
    {
      "cell_type": "code",
      "execution_count": null,
      "metadata": {
        "id": "e211b8d9",
        "scrolled": true
      },
      "outputs": [],
      "source": [
        "## 'auto_arima' para buscar os melhores parâmetros\n",
        "fit_arima = auto_arima(Y_train.to_numpy(), exougenous = X_train.to_numpy(),\n",
        "                       start_p=0, start_q=0, max_p=4, max_q=4,\n",
        "                       start_P=0, start_Q=0, max_P=4, max_Q=4,\n",
        "                       seasonal=True,\n",
        "                       m=52,\n",
        "                       information_criterion='aic',\n",
        "                       trace=True,\n",
        "                       stepwise=True,\n",
        "                       suppress_warnings = True)"
      ]
    },
    {
      "cell_type": "code",
      "execution_count": null,
      "metadata": {
        "id": "575x2rbSQraX"
      },
      "outputs": [],
      "source": [
        "## Resultados\n",
        "fit_arima.plot_diagnostics(figsize=(12, 8))\n",
        "plt.show()"
      ]
    },
    {
      "cell_type": "code",
      "execution_count": null,
      "metadata": {
        "id": "D_NBnIh7xfsF"
      },
      "outputs": [],
      "source": [
        "## SARIMAX fit com parâmetros encontrados pelo auto_arima\n",
        "\n",
        "from statsmodels.tsa.statespace.sarimax import SARIMAX\n",
        "\n",
        "model = SARIMAX(endog = Y_train.to_numpy(),\n",
        "                order=fit_arima.get_params()['order'],\n",
        "                seasonal_order=fit_arima.get_params()['seasonal_order'],\n",
        "                exog=X_train.to_numpy().astype(float),\n",
        "                enforce_exog=True)\n",
        "\n",
        "sarimax_model = model.fit()\n",
        "#sarimax_model.summary()"
      ]
    },
    {
      "cell_type": "code",
      "execution_count": null,
      "metadata": {
        "id": "rXOEW6I_4vNv"
      },
      "outputs": [],
      "source": [
        "## Predições\n",
        "predictions = sarimax_model.get_prediction(start=1, end=input_length, exog=X_test.to_numpy().astype(float),dynamic=False)\n",
        "predictions.predicted_mean"
      ]
    },
    {
      "cell_type": "code",
      "execution_count": null,
      "metadata": {
        "id": "1h5B5jtgQdNp"
      },
      "outputs": [],
      "source": [
        "## Preparação dos dados para plot\n",
        "pred_sarimax = pd.DataFrame(predictions.predicted_mean[:input_length],index=Y_test.index[-input_length:])\n",
        "pred_sarimax.rename(columns={0: 'previsto'}, inplace=True)"
      ]
    },
    {
      "cell_type": "markdown",
      "metadata": {
        "id": "mkHcQdSqW4vD"
      },
      "source": [
        "## SARIMAX Plot"
      ]
    },
    {
      "cell_type": "code",
      "execution_count": null,
      "metadata": {
        "id": "jiQZ-h5QKmWG"
      },
      "outputs": [],
      "source": [
        "import numpy as np\n",
        "import matplotlib.pyplot as plt\n",
        "\n",
        "def calculate_figsize(num_entries, base_length=10, max_length=20):\n",
        "    if num_entries <= 10:\n",
        "        return (base_length, 4)  # Altura fixa, comprimento base_length\n",
        "    else:\n",
        "        # Calcule o comprimento proporcional, mas não ultrapasse max_length\n",
        "        length = min(max_length, base_length * (num_entries / 10))\n",
        "        return (length, 4)\n",
        "\n",
        "def my_plot(predicted_values, actual_values):\n",
        "\n",
        "  num_entries = len(predicted_values)\n",
        "  figsize_ = calculate_figsize(num_entries)\n",
        "\n",
        "  # Plotting\n",
        "  plt.figure(figsize=figsize_)\n",
        "\n",
        "  # Plot actual values\n",
        "  plt.plot(actual_values.index, actual_values, label='Real', color='blue', marker='o')\n",
        "\n",
        "  # Plot predicted values\n",
        "  plt.plot(actual_values.index, predicted_values, label='Previsto', color='red', marker='x')\n",
        "\n",
        "  # Adding labels and title\n",
        "  plt.xlabel('Datas')\n",
        "  plt.ylabel('Casos')\n",
        "  plt.title('Valores reais vs valores previstos')\n",
        "  plt.xlim(actual_values.index.min(), actual_values.index.max())\n",
        "\n",
        "  # Defining and displaying all time axis ticks\n",
        "  ticks = list(actual_values.index)\n",
        "  plt.xticks(ticks)\n",
        "  plt.xticks(ticks, fontsize=8, rotation=30)\n",
        "  plt.legend()\n",
        "\n",
        "  # Display the plot\n",
        "  plt.show()\n",
        "\n",
        "my_plot(pred_sarimax, Y_test)"
      ]
    },
    {
      "cell_type": "code",
      "execution_count": null,
      "metadata": {
        "id": "56w8B6kkd5_r"
      },
      "outputs": [],
      "source": [
        "from sklearn.metrics import mean_squared_error, mean_absolute_error, r2_score\n",
        "\n",
        "# Calcular RMSE\n",
        "mse = mean_squared_error(Y_test,pred_sarimax)\n",
        "rmse = np.sqrt(mse)\n",
        "print(f'RMSE: {rmse}')\n",
        "\n",
        "# Calcular MAE\n",
        "mae = mean_absolute_error(Y_test, pred_sarimax)\n",
        "print(f'MAE: {mae}')\n",
        "\n",
        "# Calcular R2\n",
        "r2 = r2_score(Y_test, pred_sarimax)\n",
        "print(f'R2: {r2}')"
      ]
    },
    {
      "cell_type": "code",
      "execution_count": null,
      "metadata": {
        "id": "dD1YINAaYYYo"
      },
      "outputs": [],
      "source": [
        "import numpy as np\n",
        "import pandas as pd\n",
        "from statsmodels.tsa.statespace.sarimax import SARIMAX\n",
        "from sklearn.metrics import mean_squared_error, mean_absolute_error, r2_score\n",
        "import matplotlib.pyplot as plt\n",
        "\n",
        "\n",
        "def sarimax_loop(input_length, num_semanas, data):\n",
        "    data_prov = df.copy()\n",
        "    predicted_values = np.array([])\n",
        "    actual_values = pd.DataFrame()\n",
        "\n",
        "    # Calcular o ponto de início\n",
        "    start_index = len(data) - num_semanas\n",
        "\n",
        "    # Iterar sobre o DataFrame a partir do ponto de início até o final\n",
        "    for i in range(start_index, len(data), input_length):\n",
        "        # Criar defasagens\n",
        "        seq_df = window_input(input_length, data_prov)\n",
        "\n",
        "        # Separação dos dados em treino e teste\n",
        "        X = seq_df.drop(columns=['casos', 'y', 'SE'], axis=1)\n",
        "        Y = seq_df[['casos']]\n",
        "\n",
        "        train_size = i\n",
        "\n",
        "        y_train, y_test = Y.iloc[:train_size], Y.iloc[train_size:train_size + input_length]\n",
        "        X_train, X_test = X.iloc[:train_size], X.iloc[train_size:train_size + input_length]\n",
        "\n",
        "        ##########################\n",
        "\n",
        "        ## 'auto_arima' para buscar os melhores parâmetros\n",
        "        fit_arima = auto_arima(Y_train.to_numpy(), exougenous = X_train.to_numpy(),\n",
        "                       start_p=0, start_q=0, max_p=5, max_q=5,\n",
        "                       start_P=0, start_Q=0, max_P=5, max_Q=5,\n",
        "                       seasonal=True,\n",
        "                       m=52,\n",
        "                       information_criterion='aic',\n",
        "                       trace=True,\n",
        "                       stepwise=True,\n",
        "                       suppress_warnings = True)\n",
        "\n",
        "        # Ajuste do modelo SARIMAX\n",
        "        model = SARIMAX(y_train, exog=X_train,\n",
        "                        order=fit_arima.get_params()['order'],\n",
        "                        seasonal_order=fit_arima.get_params()['seasonal_order'],)\n",
        "        model_fit = model.fit(disp=False)\n",
        "\n",
        "        predictions = model_fit.predict(start=train_size, end=train_size + input_length - 1, exog=X_test)\n",
        "        predicted_values = np.append(predicted_values, predictions)\n",
        "        actual_values = pd.concat([actual_values, y_test])\n",
        "\n",
        "        # Atualizar os valores de data_prov com as previsões\n",
        "        data_prov.iloc[train_size:train_size + input_length, data_prov.columns.get_loc('casos')] = predictions.values\n",
        "\n",
        "    # Combine the actual values and predictions into a single DataFrame\n",
        "    df_predictions = pd.DataFrame(predicted_values, index=actual_values.index, columns=['predicted_values'])\n",
        "    df_combined = pd.concat([actual_values, df_predictions], axis=1)\n",
        "\n",
        "    print(predicted_values)\n",
        "    # my_plot2(mean_values)\n",
        "    print(len(predicted_values))\n",
        "    my_plot(predicted_values, actual_values)\n",
        "\n",
        "    # Calcular RMSE\n",
        "    mse = mean_squared_error(actual_values, predicted_values)\n",
        "    rmse = np.sqrt(mse)\n",
        "    print(f'RMSE: {rmse}')\n",
        "\n",
        "    # Calcular MAE\n",
        "    mae = mean_absolute_error(actual_values, predicted_values)\n",
        "    print(f'MAE: {mae}')\n",
        "\n",
        "    # Calcular R2\n",
        "    r2 = r2_score(actual_values, predicted_values)\n",
        "    print(f'R2: {r2}')\n",
        "\n",
        "# Executar a função\n",
        "# sarimax_loop(input_length, num_semanas, data)\n",
        "# sarimax_loop(1, 12, data) = de 1 em 1, prevê 12 semanas\n",
        "sarimax_loop(1, 12, df)"
      ]
    }
  ],
  "metadata": {
    "colab": {
      "provenance": []
    },
    "kernelspec": {
      "display_name": "Python 3",
      "name": "python3"
    },
    "language_info": {
      "codemirror_mode": {
        "name": "ipython",
        "version": 3
      },
      "file_extension": ".py",
      "mimetype": "text/x-python",
      "name": "python",
      "nbconvert_exporter": "python",
      "pygments_lexer": "ipython3",
      "version": "3.12.3"
    }
  },
  "nbformat": 4,
  "nbformat_minor": 0
}